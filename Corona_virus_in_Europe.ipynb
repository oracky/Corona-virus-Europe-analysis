{
  "nbformat": 4,
  "nbformat_minor": 0,
  "metadata": {
    "colab": {
      "name": "Koronawirus - analiza państw z Europy.ipynb",
      "provenance": [],
      "authorship_tag": "ABX9TyNwHtxAminQPi9c920pGu/q",
      "include_colab_link": true
    },
    "kernelspec": {
      "name": "python3",
      "display_name": "Python 3"
    }
  },
  "cells": [
    {
      "cell_type": "markdown",
      "metadata": {
        "id": "view-in-github",
        "colab_type": "text"
      },
      "source": [
        "<a href=\"https://colab.research.google.com/github/oracky/Corona-virus-Europe-analysis/blob/master/Corona_virus_in_Europe.ipynb\" target=\"_parent\"><img src=\"https://colab.research.google.com/assets/colab-badge.svg\" alt=\"Open In Colab\"/></a>"
      ]
    },
    {
      "cell_type": "markdown",
      "metadata": {
        "id": "1WMUgtDxak4S",
        "colab_type": "text"
      },
      "source": [
        "# Import libraries"
      ]
    },
    {
      "cell_type": "code",
      "metadata": {
        "id": "y9tZHqKA74Wh",
        "colab_type": "code",
        "colab": {}
      },
      "source": [
        "from typing import List\n",
        "from functools import reduce\n",
        "import matplotlib.pyplot as plt\n",
        "import pandas as pd\n",
        "import numpy as np\n",
        "import plotly.express as px\n",
        "import plotly.graph_objects as go\n",
        "import datetime\n",
        "import os\n",
        "import csv"
      ],
      "execution_count": 0,
      "outputs": []
    },
    {
      "cell_type": "markdown",
      "metadata": {
        "id": "Iqft_tXja6NJ",
        "colab_type": "text"
      },
      "source": [
        "# Functions for getting data for analysis"
      ]
    },
    {
      "cell_type": "code",
      "metadata": {
        "id": "gM9zy2sB7A2S",
        "colab_type": "code",
        "colab": {}
      },
      "source": [
        "def get_europe_countries():\n",
        "    url = f\"https://raw.githubusercontent.com/oracky/Corona-virus-Europe-analysis\"\\\n",
        "          f\"/master/countries2.csv\"\n",
        "    countries = pd.read_csv(url, error_bad_lines=False)\n",
        "    europe_countries = countries.loc[countries[\"Continent\"]==\"Europe\"]\n",
        "    return europe_countries[\"Country/Region\"].values.tolist()"
      ],
      "execution_count": 0,
      "outputs": []
    },
    {
      "cell_type": "code",
      "metadata": {
        "id": "P2hMdZIvrcYy",
        "colab_type": "code",
        "colab": {}
      },
      "source": [
        "def get_country_gdp():\n",
        "    \"\"\"\n",
        "    Important!\n",
        "    Returns list of only EUROPEAN countries GDP in 2019 (in billion USD)\n",
        "    \"\"\"\n",
        "    url = f\"https://raw.githubusercontent.com/oracky/Corona-virus-Europe-analysis\"\\\n",
        "          f\"/master/gdp-europe-2019.csv\"\n",
        "    gdp = pd.read_csv(url, error_bad_lines=False)\n",
        "    return gdp"
      ],
      "execution_count": 0,
      "outputs": []
    },
    {
      "cell_type": "code",
      "metadata": {
        "id": "iHTVoAJGZ9kx",
        "colab_type": "code",
        "colab": {}
      },
      "source": [
        "def get_confirmed_cases():\n",
        "    url = f\"https://raw.githubusercontent.com/CSSEGISandData/COVID-19/master/\"\\\n",
        "          f\"csse_covid_19_data/csse_covid_19_time_series/time_series_covid19_confirmed_global.csv\"\n",
        "    return pd.read_csv(url, error_bad_lines=False)"
      ],
      "execution_count": 0,
      "outputs": []
    },
    {
      "cell_type": "code",
      "metadata": {
        "id": "EvgEDmrWYGcZ",
        "colab_type": "code",
        "colab": {}
      },
      "source": [
        "def get_confirmed_deaths():\n",
        "    url = f\"https://raw.githubusercontent.com/CSSEGISandData/COVID-19/master/\"\\\n",
        "          f\"csse_covid_19_data/csse_covid_19_time_series/time_series_covid19_deaths_global.csv\"\n",
        "    return pd.read_csv(url, error_bad_lines=False)"
      ],
      "execution_count": 0,
      "outputs": []
    },
    {
      "cell_type": "code",
      "metadata": {
        "id": "1nbu17XoZUf5",
        "colab_type": "code",
        "colab": {}
      },
      "source": [
        "def get_confirmed_recoveries():\n",
        "    url = f\"https://raw.githubusercontent.com/CSSEGISandData/COVID-19/master/\"\\\n",
        "          f\"csse_covid_19_data/csse_covid_19_time_series/time_series_covid19_recovered_global.csv\"\n",
        "    return pd.read_csv(url, error_bad_lines=False)"
      ],
      "execution_count": 0,
      "outputs": []
    },
    {
      "cell_type": "markdown",
      "metadata": {
        "id": "QfKNzMepbnmZ",
        "colab_type": "text"
      },
      "source": [
        "# Filter results"
      ]
    },
    {
      "cell_type": "code",
      "metadata": {
        "id": "nv3xwbf6xM19",
        "colab_type": "code",
        "colab": {}
      },
      "source": [
        "def filter_overseas(countries):\n",
        "    \"\"\"\n",
        "    :param countries: DataFrame with virus cases\n",
        "    \"\"\"\n",
        "    return countries[countries[\"Province/State\"].isnull()]"
      ],
      "execution_count": 0,
      "outputs": []
    },
    {
      "cell_type": "code",
      "metadata": {
        "id": "M2rKQycCbmYj",
        "colab_type": "code",
        "colab": {}
      },
      "source": [
        "def select_only_europe(countries):\n",
        "    \"\"\"\n",
        "    :param countries: DataFrame with virus cases\n",
        "    \"\"\"\n",
        "    countries = filter_overseas(countries)\n",
        "    return countries[countries[\"Country/Region\"].isin(get_europe_countries())]\n",
        "  "
      ],
      "execution_count": 0,
      "outputs": []
    },
    {
      "cell_type": "code",
      "metadata": {
        "id": "AWExZaQiwK-y",
        "colab_type": "code",
        "colab": {}
      },
      "source": [
        "def clean_data(df_raw):\n",
        "    df_cleaned=df_raw.melt(id_vars=['Province/State','Country/Region','Lat','Long'],value_name='Cases',var_name='Date')\n",
        "    df_cleaned=df_cleaned.set_index(['Country/Region','Province/State','Date'])\n",
        "    return df_cleaned"
      ],
      "execution_count": 0,
      "outputs": []
    },
    {
      "cell_type": "code",
      "metadata": {
        "id": "bTy2nOgVFVV5",
        "colab_type": "code",
        "colab": {}
      },
      "source": [
        "def drop_unnecesary_cols(df, l_list=None): \n",
        "    \"\"\"\n",
        "    :param l_list: contains labels of collumns, must be str type\n",
        "    :param df: DataFrame with cleaned data (after clean_Data func)\n",
        "    \"\"\"\n",
        "    if list is not None:\n",
        "      for col in l_list:\n",
        "        df.drop(col, axis=1, inplace=True)\n",
        "      \n",
        "\n"
      ],
      "execution_count": 0,
      "outputs": []
    },
    {
      "cell_type": "markdown",
      "metadata": {
        "id": "lkfdL1ZRYm0z",
        "colab_type": "text"
      },
      "source": [
        "# Plotting nominal GDP for European Countries"
      ]
    },
    {
      "cell_type": "code",
      "metadata": {
        "id": "IqzIMkmgX8x-",
        "colab_type": "code",
        "outputId": "ba738821-9fd9-4459-9801-0d1ea6654e2c",
        "colab": {
          "base_uri": "https://localhost:8080/",
          "height": 542
        }
      },
      "source": [
        "\n",
        "df = get_country_gdp()\n",
        "formated_gdf = df.groupby([\"Country\"]).max()\n",
        "formated_gdf =  formated_gdf.reset_index()\n",
        "formated_gdf['size'] = formated_gdf[\"GDP2019\"].pow(0.5)\n",
        "\n",
        "\n",
        "fig = px.choropleth(formated_gdf, locations='Country',\n",
        "                     locationmode='country names', color='GDP2019',\n",
        "                     hover_name='Country',\n",
        "                     range_color= [0, max(formated_gdf['GDP2019'])],\n",
        "                     #size='size',\n",
        "                     scope='europe',\n",
        "                     projection='natural earth'\n",
        "                     )\n",
        "fig.update_layout(\n",
        "    title={\n",
        "        'text':'Nominal GDP for European countries in billion USD',\n",
        "        'y':0.9,\n",
        "        'x':0.5,\n",
        "        'xanchor': 'center',\n",
        "        'yanchor': 'top'})\n",
        "\n",
        "\n",
        "fig.show()\n"
      ],
      "execution_count": 11,
      "outputs": [
        {
          "output_type": "display_data",
          "data": {
            "text/html": [
              "<html>\n",
              "<head><meta charset=\"utf-8\" /></head>\n",
              "<body>\n",
              "    <div>\n",
              "            <script src=\"https://cdnjs.cloudflare.com/ajax/libs/mathjax/2.7.5/MathJax.js?config=TeX-AMS-MML_SVG\"></script><script type=\"text/javascript\">if (window.MathJax) {MathJax.Hub.Config({SVG: {font: \"STIX-Web\"}});}</script>\n",
              "                <script type=\"text/javascript\">window.PlotlyConfig = {MathJaxConfig: 'local'};</script>\n",
              "        <script src=\"https://cdn.plot.ly/plotly-latest.min.js\"></script>    \n",
              "            <div id=\"7ad9e7c4-c937-406f-b909-18208fa39a0c\" class=\"plotly-graph-div\" style=\"height:525px; width:100%;\"></div>\n",
              "            <script type=\"text/javascript\">\n",
              "                \n",
              "                    window.PLOTLYENV=window.PLOTLYENV || {};\n",
              "                    \n",
              "                if (document.getElementById(\"7ad9e7c4-c937-406f-b909-18208fa39a0c\")) {\n",
              "                    Plotly.newPlot(\n",
              "                        '7ad9e7c4-c937-406f-b909-18208fa39a0c',\n",
              "                        [{\"coloraxis\": \"coloraxis\", \"geo\": \"geo\", \"hoverlabel\": {\"namelength\": 0}, \"hovertemplate\": \"<b>%{hovertext}</b><br><br>Country=%{location}<br>GDP2019=%{z}\", \"hovertext\": [\"Albania\", \"Andorra\", \"Armenia\", \"Austria\", \"Azerbaijan\", \"Belarus\", \"Belgium\", \"Bosnia and Herzegovina\", \"Bulgaria\", \"Croatia\", \"Cyprus\", \"Czech Republic\", \"Denmark\", \"Estonia\", \"Finland\", \"France\", \"Georgia\", \"Germany\", \"Greece\", \"Hungary\", \"Iceland\", \"Ireland\", \"Italy\", \"Kazakhstan\", \"Kosovo\", \"Latvia\", \"Lithuania\", \"Luxembourg\", \"Malta\", \"Moldova\", \"Monaco\", \"Montenegro\", \"Netherlands\", \"North Macedonia\", \"Norway\", \"Poland\", \"Portugal\", \"Romania\", \"Russia\", \"San Marino\", \"Serbia\", \"Slovakia\", \"Slovenia\", \"Spain\", \"Sweden\", \"Switzerland\", \"Turkey\", \"Ukraine\", \"United Kingdom\"], \"locationmode\": \"country names\", \"locations\": [\"Albania\", \"Andorra\", \"Armenia\", \"Austria\", \"Azerbaijan\", \"Belarus\", \"Belgium\", \"Bosnia and Herzegovina\", \"Bulgaria\", \"Croatia\", \"Cyprus\", \"Czech Republic\", \"Denmark\", \"Estonia\", \"Finland\", \"France\", \"Georgia\", \"Germany\", \"Greece\", \"Hungary\", \"Iceland\", \"Ireland\", \"Italy\", \"Kazakhstan\", \"Kosovo\", \"Latvia\", \"Lithuania\", \"Luxembourg\", \"Malta\", \"Moldova\", \"Monaco\", \"Montenegro\", \"Netherlands\", \"North Macedonia\", \"Norway\", \"Poland\", \"Portugal\", \"Romania\", \"Russia\", \"San Marino\", \"Serbia\", \"Slovakia\", \"Slovenia\", \"Spain\", \"Sweden\", \"Switzerland\", \"Turkey\", \"Ukraine\", \"United Kingdom\"], \"name\": \"\", \"type\": \"choropleth\", \"z\": [15.418, 3.238, 13.444, 447.718, 47.17100000000001, 62.571999999999996, 517.609, 20.105999999999998, 66.25, 60.702, 24.28, 246.953, 347.176, 31.038, 269.654, 2707.074, 15.925, 3863.344, 214.012, 170.407, 23.918000000000003, 384.94, 1988.636, 170.326, 7.996, 35.045, 53.641000000000005, 69.453, 14.859000000000002, 11.687999999999999, 7.188, 5.4239999999999995, 902.355, 12.672, 417.62699999999995, 565.854, 236.408, 243.69799999999998, 1637.892, 1.591, 51.523, 106.552, 54.153999999999996, 1397.87, 528.929, 715.36, 743.7080000000001, 150.401, 2743.586]}],\n",
              "                        {\"coloraxis\": {\"cmax\": 3863.344, \"cmin\": 0, \"colorbar\": {\"title\": {\"text\": \"GDP2019\"}}, \"colorscale\": [[0.0, \"#0d0887\"], [0.1111111111111111, \"#46039f\"], [0.2222222222222222, \"#7201a8\"], [0.3333333333333333, \"#9c179e\"], [0.4444444444444444, \"#bd3786\"], [0.5555555555555556, \"#d8576b\"], [0.6666666666666666, \"#ed7953\"], [0.7777777777777778, \"#fb9f3a\"], [0.8888888888888888, \"#fdca26\"], [1.0, \"#f0f921\"]]}, \"geo\": {\"center\": {}, \"domain\": {\"x\": [0.0, 1.0], \"y\": [0.0, 1.0]}, \"projection\": {\"type\": \"natural earth\"}, \"scope\": \"europe\"}, \"legend\": {\"tracegroupgap\": 0}, \"margin\": {\"t\": 60}, \"template\": {\"data\": {\"bar\": [{\"error_x\": {\"color\": \"#2a3f5f\"}, \"error_y\": {\"color\": \"#2a3f5f\"}, \"marker\": {\"line\": {\"color\": \"#E5ECF6\", \"width\": 0.5}}, \"type\": \"bar\"}], \"barpolar\": [{\"marker\": {\"line\": {\"color\": \"#E5ECF6\", \"width\": 0.5}}, \"type\": \"barpolar\"}], \"carpet\": [{\"aaxis\": {\"endlinecolor\": \"#2a3f5f\", \"gridcolor\": \"white\", \"linecolor\": \"white\", \"minorgridcolor\": \"white\", \"startlinecolor\": \"#2a3f5f\"}, \"baxis\": {\"endlinecolor\": \"#2a3f5f\", \"gridcolor\": \"white\", \"linecolor\": \"white\", \"minorgridcolor\": \"white\", \"startlinecolor\": \"#2a3f5f\"}, \"type\": \"carpet\"}], \"choropleth\": [{\"colorbar\": {\"outlinewidth\": 0, \"ticks\": \"\"}, \"type\": \"choropleth\"}], \"contour\": [{\"colorbar\": {\"outlinewidth\": 0, \"ticks\": \"\"}, \"colorscale\": [[0.0, \"#0d0887\"], [0.1111111111111111, \"#46039f\"], [0.2222222222222222, \"#7201a8\"], [0.3333333333333333, \"#9c179e\"], [0.4444444444444444, \"#bd3786\"], [0.5555555555555556, \"#d8576b\"], [0.6666666666666666, \"#ed7953\"], [0.7777777777777778, \"#fb9f3a\"], [0.8888888888888888, \"#fdca26\"], [1.0, \"#f0f921\"]], \"type\": \"contour\"}], \"contourcarpet\": [{\"colorbar\": {\"outlinewidth\": 0, \"ticks\": \"\"}, \"type\": \"contourcarpet\"}], \"heatmap\": [{\"colorbar\": {\"outlinewidth\": 0, \"ticks\": \"\"}, \"colorscale\": [[0.0, \"#0d0887\"], [0.1111111111111111, \"#46039f\"], [0.2222222222222222, \"#7201a8\"], [0.3333333333333333, \"#9c179e\"], [0.4444444444444444, \"#bd3786\"], [0.5555555555555556, \"#d8576b\"], [0.6666666666666666, \"#ed7953\"], [0.7777777777777778, \"#fb9f3a\"], [0.8888888888888888, \"#fdca26\"], [1.0, \"#f0f921\"]], \"type\": \"heatmap\"}], \"heatmapgl\": [{\"colorbar\": {\"outlinewidth\": 0, \"ticks\": \"\"}, \"colorscale\": [[0.0, \"#0d0887\"], [0.1111111111111111, \"#46039f\"], [0.2222222222222222, \"#7201a8\"], [0.3333333333333333, \"#9c179e\"], [0.4444444444444444, \"#bd3786\"], [0.5555555555555556, \"#d8576b\"], [0.6666666666666666, \"#ed7953\"], [0.7777777777777778, \"#fb9f3a\"], [0.8888888888888888, \"#fdca26\"], [1.0, \"#f0f921\"]], \"type\": \"heatmapgl\"}], \"histogram\": [{\"marker\": {\"colorbar\": {\"outlinewidth\": 0, \"ticks\": \"\"}}, \"type\": \"histogram\"}], \"histogram2d\": [{\"colorbar\": {\"outlinewidth\": 0, \"ticks\": \"\"}, \"colorscale\": [[0.0, \"#0d0887\"], [0.1111111111111111, \"#46039f\"], [0.2222222222222222, \"#7201a8\"], [0.3333333333333333, \"#9c179e\"], [0.4444444444444444, \"#bd3786\"], [0.5555555555555556, \"#d8576b\"], [0.6666666666666666, \"#ed7953\"], [0.7777777777777778, \"#fb9f3a\"], [0.8888888888888888, \"#fdca26\"], [1.0, \"#f0f921\"]], \"type\": \"histogram2d\"}], \"histogram2dcontour\": [{\"colorbar\": {\"outlinewidth\": 0, \"ticks\": \"\"}, \"colorscale\": [[0.0, \"#0d0887\"], [0.1111111111111111, \"#46039f\"], [0.2222222222222222, \"#7201a8\"], [0.3333333333333333, \"#9c179e\"], [0.4444444444444444, \"#bd3786\"], [0.5555555555555556, \"#d8576b\"], [0.6666666666666666, \"#ed7953\"], [0.7777777777777778, \"#fb9f3a\"], [0.8888888888888888, \"#fdca26\"], [1.0, \"#f0f921\"]], \"type\": \"histogram2dcontour\"}], \"mesh3d\": [{\"colorbar\": {\"outlinewidth\": 0, \"ticks\": \"\"}, \"type\": \"mesh3d\"}], \"parcoords\": [{\"line\": {\"colorbar\": {\"outlinewidth\": 0, \"ticks\": \"\"}}, \"type\": \"parcoords\"}], \"pie\": [{\"automargin\": true, \"type\": \"pie\"}], \"scatter\": [{\"marker\": {\"colorbar\": {\"outlinewidth\": 0, \"ticks\": \"\"}}, \"type\": \"scatter\"}], \"scatter3d\": [{\"line\": {\"colorbar\": {\"outlinewidth\": 0, \"ticks\": \"\"}}, \"marker\": {\"colorbar\": {\"outlinewidth\": 0, \"ticks\": \"\"}}, \"type\": \"scatter3d\"}], \"scattercarpet\": [{\"marker\": {\"colorbar\": {\"outlinewidth\": 0, \"ticks\": \"\"}}, \"type\": \"scattercarpet\"}], \"scattergeo\": [{\"marker\": {\"colorbar\": {\"outlinewidth\": 0, \"ticks\": \"\"}}, \"type\": \"scattergeo\"}], \"scattergl\": [{\"marker\": {\"colorbar\": {\"outlinewidth\": 0, \"ticks\": \"\"}}, \"type\": \"scattergl\"}], \"scattermapbox\": [{\"marker\": {\"colorbar\": {\"outlinewidth\": 0, \"ticks\": \"\"}}, \"type\": \"scattermapbox\"}], \"scatterpolar\": [{\"marker\": {\"colorbar\": {\"outlinewidth\": 0, \"ticks\": \"\"}}, \"type\": \"scatterpolar\"}], \"scatterpolargl\": [{\"marker\": {\"colorbar\": {\"outlinewidth\": 0, \"ticks\": \"\"}}, \"type\": \"scatterpolargl\"}], \"scatterternary\": [{\"marker\": {\"colorbar\": {\"outlinewidth\": 0, \"ticks\": \"\"}}, \"type\": \"scatterternary\"}], \"surface\": [{\"colorbar\": {\"outlinewidth\": 0, \"ticks\": \"\"}, \"colorscale\": [[0.0, \"#0d0887\"], [0.1111111111111111, \"#46039f\"], [0.2222222222222222, \"#7201a8\"], [0.3333333333333333, \"#9c179e\"], [0.4444444444444444, \"#bd3786\"], [0.5555555555555556, \"#d8576b\"], [0.6666666666666666, \"#ed7953\"], [0.7777777777777778, \"#fb9f3a\"], [0.8888888888888888, \"#fdca26\"], [1.0, \"#f0f921\"]], \"type\": \"surface\"}], \"table\": [{\"cells\": {\"fill\": {\"color\": \"#EBF0F8\"}, \"line\": {\"color\": \"white\"}}, \"header\": {\"fill\": {\"color\": \"#C8D4E3\"}, \"line\": {\"color\": \"white\"}}, \"type\": \"table\"}]}, \"layout\": {\"annotationdefaults\": {\"arrowcolor\": \"#2a3f5f\", \"arrowhead\": 0, \"arrowwidth\": 1}, \"coloraxis\": {\"colorbar\": {\"outlinewidth\": 0, \"ticks\": \"\"}}, \"colorscale\": {\"diverging\": [[0, \"#8e0152\"], [0.1, \"#c51b7d\"], [0.2, \"#de77ae\"], [0.3, \"#f1b6da\"], [0.4, \"#fde0ef\"], [0.5, \"#f7f7f7\"], [0.6, \"#e6f5d0\"], [0.7, \"#b8e186\"], [0.8, \"#7fbc41\"], [0.9, \"#4d9221\"], [1, \"#276419\"]], \"sequential\": [[0.0, \"#0d0887\"], [0.1111111111111111, \"#46039f\"], [0.2222222222222222, \"#7201a8\"], [0.3333333333333333, \"#9c179e\"], [0.4444444444444444, \"#bd3786\"], [0.5555555555555556, \"#d8576b\"], [0.6666666666666666, \"#ed7953\"], [0.7777777777777778, \"#fb9f3a\"], [0.8888888888888888, \"#fdca26\"], [1.0, \"#f0f921\"]], \"sequentialminus\": [[0.0, \"#0d0887\"], [0.1111111111111111, \"#46039f\"], [0.2222222222222222, \"#7201a8\"], [0.3333333333333333, \"#9c179e\"], [0.4444444444444444, \"#bd3786\"], [0.5555555555555556, \"#d8576b\"], [0.6666666666666666, \"#ed7953\"], [0.7777777777777778, \"#fb9f3a\"], [0.8888888888888888, \"#fdca26\"], [1.0, \"#f0f921\"]]}, \"colorway\": [\"#636efa\", \"#EF553B\", \"#00cc96\", \"#ab63fa\", \"#FFA15A\", \"#19d3f3\", \"#FF6692\", \"#B6E880\", \"#FF97FF\", \"#FECB52\"], \"font\": {\"color\": \"#2a3f5f\"}, \"geo\": {\"bgcolor\": \"white\", \"lakecolor\": \"white\", \"landcolor\": \"#E5ECF6\", \"showlakes\": true, \"showland\": true, \"subunitcolor\": \"white\"}, \"hoverlabel\": {\"align\": \"left\"}, \"hovermode\": \"closest\", \"mapbox\": {\"style\": \"light\"}, \"paper_bgcolor\": \"white\", \"plot_bgcolor\": \"#E5ECF6\", \"polar\": {\"angularaxis\": {\"gridcolor\": \"white\", \"linecolor\": \"white\", \"ticks\": \"\"}, \"bgcolor\": \"#E5ECF6\", \"radialaxis\": {\"gridcolor\": \"white\", \"linecolor\": \"white\", \"ticks\": \"\"}}, \"scene\": {\"xaxis\": {\"backgroundcolor\": \"#E5ECF6\", \"gridcolor\": \"white\", \"gridwidth\": 2, \"linecolor\": \"white\", \"showbackground\": true, \"ticks\": \"\", \"zerolinecolor\": \"white\"}, \"yaxis\": {\"backgroundcolor\": \"#E5ECF6\", \"gridcolor\": \"white\", \"gridwidth\": 2, \"linecolor\": \"white\", \"showbackground\": true, \"ticks\": \"\", \"zerolinecolor\": \"white\"}, \"zaxis\": {\"backgroundcolor\": \"#E5ECF6\", \"gridcolor\": \"white\", \"gridwidth\": 2, \"linecolor\": \"white\", \"showbackground\": true, \"ticks\": \"\", \"zerolinecolor\": \"white\"}}, \"shapedefaults\": {\"line\": {\"color\": \"#2a3f5f\"}}, \"ternary\": {\"aaxis\": {\"gridcolor\": \"white\", \"linecolor\": \"white\", \"ticks\": \"\"}, \"baxis\": {\"gridcolor\": \"white\", \"linecolor\": \"white\", \"ticks\": \"\"}, \"bgcolor\": \"#E5ECF6\", \"caxis\": {\"gridcolor\": \"white\", \"linecolor\": \"white\", \"ticks\": \"\"}}, \"title\": {\"x\": 0.05}, \"xaxis\": {\"automargin\": true, \"gridcolor\": \"white\", \"linecolor\": \"white\", \"ticks\": \"\", \"title\": {\"standoff\": 15}, \"zerolinecolor\": \"white\", \"zerolinewidth\": 2}, \"yaxis\": {\"automargin\": true, \"gridcolor\": \"white\", \"linecolor\": \"white\", \"ticks\": \"\", \"title\": {\"standoff\": 15}, \"zerolinecolor\": \"white\", \"zerolinewidth\": 2}}}, \"title\": {\"text\": \"Nominal GDP for European countries in billion USD\", \"x\": 0.5, \"xanchor\": \"center\", \"y\": 0.9, \"yanchor\": \"top\"}},\n",
              "                        {\"responsive\": true}\n",
              "                    ).then(function(){\n",
              "                            \n",
              "var gd = document.getElementById('7ad9e7c4-c937-406f-b909-18208fa39a0c');\n",
              "var x = new MutationObserver(function (mutations, observer) {{\n",
              "        var display = window.getComputedStyle(gd).display;\n",
              "        if (!display || display === 'none') {{\n",
              "            console.log([gd, 'removed!']);\n",
              "            Plotly.purge(gd);\n",
              "            observer.disconnect();\n",
              "        }}\n",
              "}});\n",
              "\n",
              "// Listen for the removal of the full notebook cells\n",
              "var notebookContainer = gd.closest('#notebook-container');\n",
              "if (notebookContainer) {{\n",
              "    x.observe(notebookContainer, {childList: true});\n",
              "}}\n",
              "\n",
              "// Listen for the clearing of the current output cell\n",
              "var outputEl = gd.closest('.output');\n",
              "if (outputEl) {{\n",
              "    x.observe(outputEl, {childList: true});\n",
              "}}\n",
              "\n",
              "                        })\n",
              "                };\n",
              "                \n",
              "            </script>\n",
              "        </div>\n",
              "</body>\n",
              "</html>"
            ]
          },
          "metadata": {
            "tags": []
          }
        }
      ]
    },
    {
      "cell_type": "markdown",
      "metadata": {
        "id": "l9_TlWd_Gpjh",
        "colab_type": "text"
      },
      "source": [
        "# Finding countries with top3 and low3 GDP"
      ]
    },
    {
      "cell_type": "code",
      "metadata": {
        "id": "L_YCL3qSrnmk",
        "colab_type": "code",
        "colab": {
          "base_uri": "https://localhost:8080/",
          "height": 245
        },
        "outputId": "8159cf21-122d-4515-d5e9-57c9c0b20e8f"
      },
      "source": [
        "conf_cases = get_confirmed_cases()\n",
        "deaths = get_confirmed_deaths()\n",
        "europe_countries_cases = select_only_europe(conf_cases)\n",
        "europe_deaths = select_only_europe(deaths)\n",
        "\n",
        "gdp = get_country_gdp()\n",
        "gdp = gdp.sort_values(by='GDP2019')\n",
        "ctr = gdp.head(3)\n",
        "low3 = gdp.tail(3)\n",
        "ctr = ctr.append(low3,ignore_index=True)\n",
        "intr_ctr = ctr['Country'].values.tolist()\n",
        "\n",
        "europe_countries_cases = europe_countries_cases[europe_countries_cases\n",
        "                                              ['Country/Region'].isin(intr_ctr)]\n",
        "europe_deaths = europe_deaths[europe_deaths['Country/Region'].isin(intr_ctr)]\n",
        "\n",
        "europe_countries_cases\n"
      ],
      "execution_count": 12,
      "outputs": [
        {
          "output_type": "execute_result",
          "data": {
            "text/html": [
              "<div>\n",
              "<style scoped>\n",
              "    .dataframe tbody tr th:only-of-type {\n",
              "        vertical-align: middle;\n",
              "    }\n",
              "\n",
              "    .dataframe tbody tr th {\n",
              "        vertical-align: top;\n",
              "    }\n",
              "\n",
              "    .dataframe thead th {\n",
              "        text-align: right;\n",
              "    }\n",
              "</style>\n",
              "<table border=\"1\" class=\"dataframe\">\n",
              "  <thead>\n",
              "    <tr style=\"text-align: right;\">\n",
              "      <th></th>\n",
              "      <th>Province/State</th>\n",
              "      <th>Country/Region</th>\n",
              "      <th>Lat</th>\n",
              "      <th>Long</th>\n",
              "      <th>1/22/20</th>\n",
              "      <th>1/23/20</th>\n",
              "      <th>1/24/20</th>\n",
              "      <th>1/25/20</th>\n",
              "      <th>1/26/20</th>\n",
              "      <th>1/27/20</th>\n",
              "      <th>1/28/20</th>\n",
              "      <th>1/29/20</th>\n",
              "      <th>1/30/20</th>\n",
              "      <th>1/31/20</th>\n",
              "      <th>2/1/20</th>\n",
              "      <th>2/2/20</th>\n",
              "      <th>2/3/20</th>\n",
              "      <th>2/4/20</th>\n",
              "      <th>2/5/20</th>\n",
              "      <th>2/6/20</th>\n",
              "      <th>2/7/20</th>\n",
              "      <th>2/8/20</th>\n",
              "      <th>2/9/20</th>\n",
              "      <th>2/10/20</th>\n",
              "      <th>2/11/20</th>\n",
              "      <th>2/12/20</th>\n",
              "      <th>2/13/20</th>\n",
              "      <th>2/14/20</th>\n",
              "      <th>2/15/20</th>\n",
              "      <th>2/16/20</th>\n",
              "      <th>2/17/20</th>\n",
              "      <th>2/18/20</th>\n",
              "      <th>2/19/20</th>\n",
              "      <th>2/20/20</th>\n",
              "      <th>2/21/20</th>\n",
              "      <th>2/22/20</th>\n",
              "      <th>2/23/20</th>\n",
              "      <th>2/24/20</th>\n",
              "      <th>2/25/20</th>\n",
              "      <th>2/26/20</th>\n",
              "      <th>2/27/20</th>\n",
              "      <th>2/28/20</th>\n",
              "      <th>2/29/20</th>\n",
              "      <th>3/1/20</th>\n",
              "      <th>3/2/20</th>\n",
              "      <th>3/3/20</th>\n",
              "      <th>3/4/20</th>\n",
              "      <th>3/5/20</th>\n",
              "      <th>3/6/20</th>\n",
              "      <th>3/7/20</th>\n",
              "      <th>3/8/20</th>\n",
              "      <th>3/9/20</th>\n",
              "      <th>3/10/20</th>\n",
              "      <th>3/11/20</th>\n",
              "      <th>3/12/20</th>\n",
              "      <th>3/13/20</th>\n",
              "      <th>3/14/20</th>\n",
              "      <th>3/15/20</th>\n",
              "      <th>3/16/20</th>\n",
              "      <th>3/17/20</th>\n",
              "      <th>3/18/20</th>\n",
              "      <th>3/19/20</th>\n",
              "      <th>3/20/20</th>\n",
              "      <th>3/21/20</th>\n",
              "      <th>3/22/20</th>\n",
              "      <th>3/23/20</th>\n",
              "      <th>3/24/20</th>\n",
              "      <th>3/25/20</th>\n",
              "      <th>3/26/20</th>\n",
              "    </tr>\n",
              "  </thead>\n",
              "  <tbody>\n",
              "    <tr>\n",
              "      <th>3</th>\n",
              "      <td>NaN</td>\n",
              "      <td>Andorra</td>\n",
              "      <td>42.5063</td>\n",
              "      <td>1.5218</td>\n",
              "      <td>0</td>\n",
              "      <td>0</td>\n",
              "      <td>0</td>\n",
              "      <td>0</td>\n",
              "      <td>0</td>\n",
              "      <td>0</td>\n",
              "      <td>0</td>\n",
              "      <td>0</td>\n",
              "      <td>0</td>\n",
              "      <td>0</td>\n",
              "      <td>0</td>\n",
              "      <td>0</td>\n",
              "      <td>0</td>\n",
              "      <td>0</td>\n",
              "      <td>0</td>\n",
              "      <td>0</td>\n",
              "      <td>0</td>\n",
              "      <td>0</td>\n",
              "      <td>0</td>\n",
              "      <td>0</td>\n",
              "      <td>0</td>\n",
              "      <td>0</td>\n",
              "      <td>0</td>\n",
              "      <td>0</td>\n",
              "      <td>0</td>\n",
              "      <td>0</td>\n",
              "      <td>0</td>\n",
              "      <td>0</td>\n",
              "      <td>0</td>\n",
              "      <td>0</td>\n",
              "      <td>0</td>\n",
              "      <td>0</td>\n",
              "      <td>0</td>\n",
              "      <td>0</td>\n",
              "      <td>0</td>\n",
              "      <td>0</td>\n",
              "      <td>0</td>\n",
              "      <td>0</td>\n",
              "      <td>0</td>\n",
              "      <td>0</td>\n",
              "      <td>1</td>\n",
              "      <td>1</td>\n",
              "      <td>1</td>\n",
              "      <td>1</td>\n",
              "      <td>1</td>\n",
              "      <td>1</td>\n",
              "      <td>1</td>\n",
              "      <td>1</td>\n",
              "      <td>1</td>\n",
              "      <td>1</td>\n",
              "      <td>1</td>\n",
              "      <td>1</td>\n",
              "      <td>1</td>\n",
              "      <td>1</td>\n",
              "      <td>2</td>\n",
              "      <td>39</td>\n",
              "      <td>39</td>\n",
              "      <td>53</td>\n",
              "      <td>75</td>\n",
              "      <td>88</td>\n",
              "      <td>113</td>\n",
              "      <td>133</td>\n",
              "      <td>164</td>\n",
              "      <td>188</td>\n",
              "      <td>224</td>\n",
              "    </tr>\n",
              "    <tr>\n",
              "      <th>116</th>\n",
              "      <td>NaN</td>\n",
              "      <td>France</td>\n",
              "      <td>46.2276</td>\n",
              "      <td>2.2137</td>\n",
              "      <td>0</td>\n",
              "      <td>0</td>\n",
              "      <td>2</td>\n",
              "      <td>3</td>\n",
              "      <td>3</td>\n",
              "      <td>3</td>\n",
              "      <td>4</td>\n",
              "      <td>5</td>\n",
              "      <td>5</td>\n",
              "      <td>5</td>\n",
              "      <td>6</td>\n",
              "      <td>6</td>\n",
              "      <td>6</td>\n",
              "      <td>6</td>\n",
              "      <td>6</td>\n",
              "      <td>6</td>\n",
              "      <td>6</td>\n",
              "      <td>11</td>\n",
              "      <td>11</td>\n",
              "      <td>11</td>\n",
              "      <td>11</td>\n",
              "      <td>11</td>\n",
              "      <td>11</td>\n",
              "      <td>11</td>\n",
              "      <td>12</td>\n",
              "      <td>12</td>\n",
              "      <td>12</td>\n",
              "      <td>12</td>\n",
              "      <td>12</td>\n",
              "      <td>12</td>\n",
              "      <td>12</td>\n",
              "      <td>12</td>\n",
              "      <td>12</td>\n",
              "      <td>12</td>\n",
              "      <td>14</td>\n",
              "      <td>18</td>\n",
              "      <td>38</td>\n",
              "      <td>57</td>\n",
              "      <td>100</td>\n",
              "      <td>130</td>\n",
              "      <td>191</td>\n",
              "      <td>204</td>\n",
              "      <td>285</td>\n",
              "      <td>377</td>\n",
              "      <td>653</td>\n",
              "      <td>949</td>\n",
              "      <td>1126</td>\n",
              "      <td>1209</td>\n",
              "      <td>1784</td>\n",
              "      <td>2281</td>\n",
              "      <td>2281</td>\n",
              "      <td>3661</td>\n",
              "      <td>4469</td>\n",
              "      <td>4499</td>\n",
              "      <td>6633</td>\n",
              "      <td>7652</td>\n",
              "      <td>9043</td>\n",
              "      <td>10871</td>\n",
              "      <td>12612</td>\n",
              "      <td>14282</td>\n",
              "      <td>16018</td>\n",
              "      <td>19856</td>\n",
              "      <td>22304</td>\n",
              "      <td>25233</td>\n",
              "      <td>29155</td>\n",
              "    </tr>\n",
              "    <tr>\n",
              "      <th>120</th>\n",
              "      <td>NaN</td>\n",
              "      <td>Germany</td>\n",
              "      <td>51.0000</td>\n",
              "      <td>9.0000</td>\n",
              "      <td>0</td>\n",
              "      <td>0</td>\n",
              "      <td>0</td>\n",
              "      <td>0</td>\n",
              "      <td>0</td>\n",
              "      <td>1</td>\n",
              "      <td>4</td>\n",
              "      <td>4</td>\n",
              "      <td>4</td>\n",
              "      <td>5</td>\n",
              "      <td>8</td>\n",
              "      <td>10</td>\n",
              "      <td>12</td>\n",
              "      <td>12</td>\n",
              "      <td>12</td>\n",
              "      <td>12</td>\n",
              "      <td>13</td>\n",
              "      <td>13</td>\n",
              "      <td>14</td>\n",
              "      <td>14</td>\n",
              "      <td>16</td>\n",
              "      <td>16</td>\n",
              "      <td>16</td>\n",
              "      <td>16</td>\n",
              "      <td>16</td>\n",
              "      <td>16</td>\n",
              "      <td>16</td>\n",
              "      <td>16</td>\n",
              "      <td>16</td>\n",
              "      <td>16</td>\n",
              "      <td>16</td>\n",
              "      <td>16</td>\n",
              "      <td>16</td>\n",
              "      <td>16</td>\n",
              "      <td>17</td>\n",
              "      <td>27</td>\n",
              "      <td>46</td>\n",
              "      <td>48</td>\n",
              "      <td>79</td>\n",
              "      <td>130</td>\n",
              "      <td>159</td>\n",
              "      <td>196</td>\n",
              "      <td>262</td>\n",
              "      <td>482</td>\n",
              "      <td>670</td>\n",
              "      <td>799</td>\n",
              "      <td>1040</td>\n",
              "      <td>1176</td>\n",
              "      <td>1457</td>\n",
              "      <td>1908</td>\n",
              "      <td>2078</td>\n",
              "      <td>3675</td>\n",
              "      <td>4585</td>\n",
              "      <td>5795</td>\n",
              "      <td>7272</td>\n",
              "      <td>9257</td>\n",
              "      <td>12327</td>\n",
              "      <td>15320</td>\n",
              "      <td>19848</td>\n",
              "      <td>22213</td>\n",
              "      <td>24873</td>\n",
              "      <td>29056</td>\n",
              "      <td>32986</td>\n",
              "      <td>37323</td>\n",
              "      <td>43938</td>\n",
              "    </tr>\n",
              "    <tr>\n",
              "      <th>162</th>\n",
              "      <td>NaN</td>\n",
              "      <td>Montenegro</td>\n",
              "      <td>42.5000</td>\n",
              "      <td>19.3000</td>\n",
              "      <td>0</td>\n",
              "      <td>0</td>\n",
              "      <td>0</td>\n",
              "      <td>0</td>\n",
              "      <td>0</td>\n",
              "      <td>0</td>\n",
              "      <td>0</td>\n",
              "      <td>0</td>\n",
              "      <td>0</td>\n",
              "      <td>0</td>\n",
              "      <td>0</td>\n",
              "      <td>0</td>\n",
              "      <td>0</td>\n",
              "      <td>0</td>\n",
              "      <td>0</td>\n",
              "      <td>0</td>\n",
              "      <td>0</td>\n",
              "      <td>0</td>\n",
              "      <td>0</td>\n",
              "      <td>0</td>\n",
              "      <td>0</td>\n",
              "      <td>0</td>\n",
              "      <td>0</td>\n",
              "      <td>0</td>\n",
              "      <td>0</td>\n",
              "      <td>0</td>\n",
              "      <td>0</td>\n",
              "      <td>0</td>\n",
              "      <td>0</td>\n",
              "      <td>0</td>\n",
              "      <td>0</td>\n",
              "      <td>0</td>\n",
              "      <td>0</td>\n",
              "      <td>0</td>\n",
              "      <td>0</td>\n",
              "      <td>0</td>\n",
              "      <td>0</td>\n",
              "      <td>0</td>\n",
              "      <td>0</td>\n",
              "      <td>0</td>\n",
              "      <td>0</td>\n",
              "      <td>0</td>\n",
              "      <td>0</td>\n",
              "      <td>0</td>\n",
              "      <td>0</td>\n",
              "      <td>0</td>\n",
              "      <td>0</td>\n",
              "      <td>0</td>\n",
              "      <td>0</td>\n",
              "      <td>0</td>\n",
              "      <td>0</td>\n",
              "      <td>0</td>\n",
              "      <td>0</td>\n",
              "      <td>0</td>\n",
              "      <td>0</td>\n",
              "      <td>2</td>\n",
              "      <td>2</td>\n",
              "      <td>3</td>\n",
              "      <td>14</td>\n",
              "      <td>14</td>\n",
              "      <td>21</td>\n",
              "      <td>27</td>\n",
              "      <td>47</td>\n",
              "      <td>52</td>\n",
              "      <td>69</td>\n",
              "    </tr>\n",
              "    <tr>\n",
              "      <th>191</th>\n",
              "      <td>NaN</td>\n",
              "      <td>San Marino</td>\n",
              "      <td>43.9424</td>\n",
              "      <td>12.4578</td>\n",
              "      <td>0</td>\n",
              "      <td>0</td>\n",
              "      <td>0</td>\n",
              "      <td>0</td>\n",
              "      <td>0</td>\n",
              "      <td>0</td>\n",
              "      <td>0</td>\n",
              "      <td>0</td>\n",
              "      <td>0</td>\n",
              "      <td>0</td>\n",
              "      <td>0</td>\n",
              "      <td>0</td>\n",
              "      <td>0</td>\n",
              "      <td>0</td>\n",
              "      <td>0</td>\n",
              "      <td>0</td>\n",
              "      <td>0</td>\n",
              "      <td>0</td>\n",
              "      <td>0</td>\n",
              "      <td>0</td>\n",
              "      <td>0</td>\n",
              "      <td>0</td>\n",
              "      <td>0</td>\n",
              "      <td>0</td>\n",
              "      <td>0</td>\n",
              "      <td>0</td>\n",
              "      <td>0</td>\n",
              "      <td>0</td>\n",
              "      <td>0</td>\n",
              "      <td>0</td>\n",
              "      <td>0</td>\n",
              "      <td>0</td>\n",
              "      <td>0</td>\n",
              "      <td>0</td>\n",
              "      <td>0</td>\n",
              "      <td>0</td>\n",
              "      <td>1</td>\n",
              "      <td>1</td>\n",
              "      <td>1</td>\n",
              "      <td>1</td>\n",
              "      <td>8</td>\n",
              "      <td>10</td>\n",
              "      <td>16</td>\n",
              "      <td>21</td>\n",
              "      <td>21</td>\n",
              "      <td>23</td>\n",
              "      <td>36</td>\n",
              "      <td>36</td>\n",
              "      <td>51</td>\n",
              "      <td>62</td>\n",
              "      <td>69</td>\n",
              "      <td>80</td>\n",
              "      <td>80</td>\n",
              "      <td>101</td>\n",
              "      <td>109</td>\n",
              "      <td>109</td>\n",
              "      <td>119</td>\n",
              "      <td>119</td>\n",
              "      <td>144</td>\n",
              "      <td>144</td>\n",
              "      <td>175</td>\n",
              "      <td>187</td>\n",
              "      <td>187</td>\n",
              "      <td>208</td>\n",
              "      <td>208</td>\n",
              "    </tr>\n",
              "    <tr>\n",
              "      <th>223</th>\n",
              "      <td>NaN</td>\n",
              "      <td>United Kingdom</td>\n",
              "      <td>55.3781</td>\n",
              "      <td>-3.4360</td>\n",
              "      <td>0</td>\n",
              "      <td>0</td>\n",
              "      <td>0</td>\n",
              "      <td>0</td>\n",
              "      <td>0</td>\n",
              "      <td>0</td>\n",
              "      <td>0</td>\n",
              "      <td>0</td>\n",
              "      <td>0</td>\n",
              "      <td>2</td>\n",
              "      <td>2</td>\n",
              "      <td>2</td>\n",
              "      <td>2</td>\n",
              "      <td>2</td>\n",
              "      <td>2</td>\n",
              "      <td>2</td>\n",
              "      <td>3</td>\n",
              "      <td>3</td>\n",
              "      <td>3</td>\n",
              "      <td>8</td>\n",
              "      <td>8</td>\n",
              "      <td>9</td>\n",
              "      <td>9</td>\n",
              "      <td>9</td>\n",
              "      <td>9</td>\n",
              "      <td>9</td>\n",
              "      <td>9</td>\n",
              "      <td>9</td>\n",
              "      <td>9</td>\n",
              "      <td>9</td>\n",
              "      <td>9</td>\n",
              "      <td>9</td>\n",
              "      <td>9</td>\n",
              "      <td>13</td>\n",
              "      <td>13</td>\n",
              "      <td>13</td>\n",
              "      <td>15</td>\n",
              "      <td>20</td>\n",
              "      <td>23</td>\n",
              "      <td>36</td>\n",
              "      <td>40</td>\n",
              "      <td>51</td>\n",
              "      <td>85</td>\n",
              "      <td>115</td>\n",
              "      <td>163</td>\n",
              "      <td>206</td>\n",
              "      <td>273</td>\n",
              "      <td>321</td>\n",
              "      <td>382</td>\n",
              "      <td>456</td>\n",
              "      <td>456</td>\n",
              "      <td>798</td>\n",
              "      <td>1140</td>\n",
              "      <td>1140</td>\n",
              "      <td>1543</td>\n",
              "      <td>1950</td>\n",
              "      <td>2626</td>\n",
              "      <td>2689</td>\n",
              "      <td>3983</td>\n",
              "      <td>5018</td>\n",
              "      <td>5683</td>\n",
              "      <td>6650</td>\n",
              "      <td>8077</td>\n",
              "      <td>9529</td>\n",
              "      <td>11658</td>\n",
              "    </tr>\n",
              "  </tbody>\n",
              "</table>\n",
              "</div>"
            ],
            "text/plain": [
              "    Province/State  Country/Region      Lat  ...  3/24/20  3/25/20  3/26/20\n",
              "3              NaN         Andorra  42.5063  ...      164      188      224\n",
              "116            NaN          France  46.2276  ...    22304    25233    29155\n",
              "120            NaN         Germany  51.0000  ...    32986    37323    43938\n",
              "162            NaN      Montenegro  42.5000  ...       47       52       69\n",
              "191            NaN      San Marino  43.9424  ...      187      208      208\n",
              "223            NaN  United Kingdom  55.3781  ...     8077     9529    11658\n",
              "\n",
              "[6 rows x 69 columns]"
            ]
          },
          "metadata": {
            "tags": []
          },
          "execution_count": 12
        }
      ]
    },
    {
      "cell_type": "markdown",
      "metadata": {
        "id": "qGxo1AALMO6w",
        "colab_type": "text"
      },
      "source": [
        "# Comparison between richer and poorer european countries\n",
        "## Confirmed cases, deaths and spreading of SARS-CoV-2019 (last two weeks)"
      ]
    },
    {
      "cell_type": "code",
      "metadata": {
        "id": "vqZwwAq35YJ7",
        "colab_type": "code",
        "colab": {}
      },
      "source": [
        "# getting wanted countries data frames\n",
        "andorra = europe_countries_cases.loc[europe_countries_cases\n",
        "                                     [\"Country/Region\"]==\"Andorra\"]\n",
        "andorra_cases = clean_data(andorra)\n",
        "france = europe_countries_cases.loc[europe_countries_cases\n",
        "                                     [\"Country/Region\"]==\"France\"]\n",
        "france_cases = clean_data(france)\n",
        "germany = europe_countries_cases.loc[europe_countries_cases\n",
        "                                     [\"Country/Region\"]==\"Germany\"]\n",
        "germany_cases = clean_data(germany)\n",
        "montenegro = europe_countries_cases.loc[europe_countries_cases\n",
        "                                     [\"Country/Region\"]==\"Montenegro\"]\n",
        "montenegro_cases = clean_data(montenegro)\n",
        "sanmarino = europe_countries_cases.loc[europe_countries_cases\n",
        "                                     [\"Country/Region\"]==\"San Marino\"]\n",
        "sanmarino_cases = clean_data(sanmarino)\n",
        "uk = europe_countries_cases.loc[europe_countries_cases\n",
        "                                     [\"Country/Region\"]==\"United Kingdom\"]\n",
        "uk_cases = clean_data(uk)"
      ],
      "execution_count": 0,
      "outputs": []
    },
    {
      "cell_type": "code",
      "metadata": {
        "id": "aoukTqUwTrS3",
        "colab_type": "code",
        "colab": {}
      },
      "source": [
        "# getting wanted countries data frames\n",
        "andorra_d = europe_deaths.loc[europe_deaths\n",
        "                                     [\"Country/Region\"]==\"Andorra\"]\n",
        "andorra_deaths = clean_data(andorra_d)\n",
        "france_d = europe_deaths.loc[europe_deaths\n",
        "                                     [\"Country/Region\"]==\"France\"]\n",
        "france_deaths = clean_data(france_d)\n",
        "germany_d = europe_deaths.loc[europe_deaths\n",
        "                                     [\"Country/Region\"]==\"Germany\"]\n",
        "germany_deaths = clean_data(germany_d)\n",
        "montenegro_d = europe_deaths.loc[europe_deaths\n",
        "                                     [\"Country/Region\"]==\"Montenegro\"]\n",
        "montenegro_deaths = clean_data(montenegro_d)\n",
        "sanmarino_d = europe_deaths.loc[europe_deaths\n",
        "                                     [\"Country/Region\"]==\"San Marino\"]\n",
        "sanmarino_deaths = clean_data(sanmarino_d)\n",
        "uk_d = europe_deaths.loc[europe_deaths\n",
        "                                     [\"Country/Region\"]==\"United Kingdom\"]\n",
        "uk_deaths = clean_data(uk_d)"
      ],
      "execution_count": 0,
      "outputs": []
    },
    {
      "cell_type": "code",
      "metadata": {
        "id": "S8Po8oOgToMz",
        "colab_type": "code",
        "colab": {}
      },
      "source": [
        "df_list = [andorra_cases,france_cases,germany_cases,montenegro_cases,\n",
        "           sanmarino_cases,uk_cases]\n",
        "\n",
        "# reduced data frame\n",
        "df_all = reduce(lambda left,right: pd.merge(left,right,on='Date'), df_list)\n",
        "\n",
        "# droping columns with latitude and longitude\n",
        "drop_unnecesary_cols(df_all,['Lat_x','Lat_y','Long_x','Long_y'])\n",
        "\n",
        "df_all.columns = ['Andorra', 'France', 'Germany', 'Montenegro', 'San Marino',\n",
        "                  'United Kingdom']"
      ],
      "execution_count": 0,
      "outputs": []
    },
    {
      "cell_type": "code",
      "metadata": {
        "id": "eQ5L6OToUcs0",
        "colab_type": "code",
        "colab": {}
      },
      "source": [
        "df_list_d = [andorra_deaths,france_deaths,germany_deaths,montenegro_deaths,\n",
        "           sanmarino_deaths,uk_deaths]\n",
        "\n",
        "# reduced data frame\n",
        "df_all_d = reduce(lambda left,right: pd.merge(left,right,on='Date'), df_list_d)\n",
        "\n",
        "# droping columns with latitude and longitude\n",
        "drop_unnecesary_cols(df_all_d,['Lat_x','Lat_y','Long_x','Long_y'])\n",
        "\n",
        "df_all_d.columns = ['Andorra', 'France', 'Germany', 'Montenegro', 'San Marino','United Kingdom']"
      ],
      "execution_count": 0,
      "outputs": []
    },
    {
      "cell_type": "markdown",
      "metadata": {
        "id": "BCYi_RuZRml6",
        "colab_type": "text"
      },
      "source": [
        "### Charts with confirmed cases"
      ]
    },
    {
      "cell_type": "code",
      "metadata": {
        "id": "gtonjpaDRuN8",
        "colab_type": "code",
        "colab": {
          "base_uri": "https://localhost:8080/",
          "height": 530
        },
        "outputId": "8ca0163b-ab20-4184-99a6-2a2efdb958b0"
      },
      "source": [
        "df_all.tail(14).plot(y=['Andorra', 'France', 'Germany', 'Montenegro', \n",
        "                        'San Marino', 'United Kingdom'],\n",
        "                        figsize=(12,8), marker='o', \n",
        "                        title='Confirmed cases of SARS-CoV-2 in last two weeks',\n",
        "                     logy=False)"
      ],
      "execution_count": 33,
      "outputs": [
        {
          "output_type": "execute_result",
          "data": {
            "text/plain": [
              "<matplotlib.axes._subplots.AxesSubplot at 0x7ff455cb02b0>"
            ]
          },
          "metadata": {
            "tags": []
          },
          "execution_count": 33
        },
        {
          "output_type": "display_data",
          "data": {
            "image/png": "[encoded data removed]",
            "text/plain": [
              "<Figure size 864x576 with 1 Axes>"
            ]
          },
          "metadata": {
            "tags": []
          }
        }
      ]
    },
    {
      "cell_type": "code",
      "metadata": {
        "id": "Y7JeQ5YmRw_I",
        "colab_type": "code",
        "colab": {
          "base_uri": "https://localhost:8080/",
          "height": 530
        },
        "outputId": "2167cbb8-f0d5-411d-b8e3-b0bca3cd3db0"
      },
      "source": [
        "df_all.tail(14).plot(y=['Andorra', 'France', 'Germany', 'Montenegro', \n",
        "                        'San Marino', 'United Kingdom'],\n",
        "                        figsize=(12,8), marker='o',\n",
        "                        title=f'Confirmed cases of SARS-CoV-2 in last'\\\n",
        "                        f'/ two week (logaritmic scale)', logy=True)"
      ],
      "execution_count": 34,
      "outputs": [
        {
          "output_type": "execute_result",
          "data": {
            "text/plain": [
              "<matplotlib.axes._subplots.AxesSubplot at 0x7ff455923940>"
            ]
          },
          "metadata": {
            "tags": []
          },
          "execution_count": 34
        },
        {
          "output_type": "display_data",
          "data": {
            "image/png": "[encoded data removed]",
            "text/plain": [
              "<Figure size 864x576 with 1 Axes>"
            ]
          },
          "metadata": {
            "tags": []
          }
        }
      ]
    },
    {
      "cell_type": "markdown",
      "metadata": {
        "id": "sq5dsJSKR_9R",
        "colab_type": "text"
      },
      "source": [
        "### Chart with number of deaths caused by SARS-CoV-2019 (last two weeks)"
      ]
    },
    {
      "cell_type": "code",
      "metadata": {
        "id": "oppbtVfSZWna",
        "colab_type": "code",
        "colab": {
          "base_uri": "https://localhost:8080/",
          "height": 530
        },
        "outputId": "6db54aa5-48d8-496d-dca0-a88d050cf4b7"
      },
      "source": [
        "df_all_d.tail(14).plot(y=['Andorra', 'France', 'Germany', 'Montenegro', \n",
        "                        'San Marino', 'United Kingdom'],\n",
        "                        figsize=(12,8), marker='o', \n",
        "                        title='Deaths caused by SARS-CoV-2 in last two weeks (logaritmic scale)',\n",
        "                     logy=True)"
      ],
      "execution_count": 37,
      "outputs": [
        {
          "output_type": "execute_result",
          "data": {
            "text/plain": [
              "<matplotlib.axes._subplots.AxesSubplot at 0x7ff45507d940>"
            ]
          },
          "metadata": {
            "tags": []
          },
          "execution_count": 37
        },
        {
          "output_type": "display_data",
          "data": {
            "image/png": "[encoded data removed]",
            "text/plain": [
              "<Figure size 864x576 with 1 Axes>"
            ]
          },
          "metadata": {
            "tags": []
          }
        }
      ]
    }
  ]
}